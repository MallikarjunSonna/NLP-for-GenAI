{
 "cells": [
  {
   "cell_type": "code",
   "execution_count": 1,
   "id": "03b313f8-0f1a-4d37-baca-fa1df578ce5b",
   "metadata": {},
   "outputs": [],
   "source": [
    "import pandas as pd\n",
    "import re\n",
    "from sklearn.feature_extraction.text import CountVectorizer, TfidfVectorizer"
   ]
  },
  {
   "cell_type": "code",
   "execution_count": 2,
   "id": "69a7d388-d09f-4f55-b0b1-178dfd84c60f",
   "metadata": {},
   "outputs": [],
   "source": [
    "data = {\n",
    "    'text': [\n",
    "        \"I love NLP\",\n",
    "        \"NLP is fun\",\n",
    "        \"Machine learning is cool\",\n",
    "        \"I enjoy learning NLP\",\n",
    "        \"Fun with machine learning and NLP\"\n",
    "    ]\n",
    "}"
   ]
  },
  {
   "cell_type": "code",
   "execution_count": 3,
   "id": "94ea73d5-6b43-4671-a1cd-fd3a7a5bb2cd",
   "metadata": {},
   "outputs": [],
   "source": [
    "df=pd.DataFrame(data)"
   ]
  },
  {
   "cell_type": "code",
   "execution_count": 4,
   "id": "e20d233e-225c-4334-970c-cea37ea75f1a",
   "metadata": {},
   "outputs": [
    {
     "data": {
      "text/plain": [
       "{'text': ['I love NLP',\n",
       "  'NLP is fun',\n",
       "  'Machine learning is cool',\n",
       "  'I enjoy learning NLP',\n",
       "  'Fun with machine learning and NLP']}"
      ]
     },
     "execution_count": 4,
     "metadata": {},
     "output_type": "execute_result"
    }
   ],
   "source": [
    "data"
   ]
  },
  {
   "cell_type": "code",
   "execution_count": 5,
   "id": "1c1df8dd-a8ba-4bc9-8e8e-cd0333cf3817",
   "metadata": {},
   "outputs": [],
   "source": [
    "stopwords = set([\"i\", \"is\", \"and\", \"the\", \"a\", \"an\", \"with\", \"to\", \"in\", \"on\", \"for\", \"of\", \"was\"])"
   ]
  },
  {
   "cell_type": "code",
   "execution_count": 6,
   "id": "ab8717c6-0cc3-43b0-9918-3f0ccc87d542",
   "metadata": {},
   "outputs": [],
   "source": [
    "# Cleaning function\n",
    "def clean_text(text):\n",
    "    text = text.lower()\n",
    "    text = re.sub(r'[^\\w\\s]', '', text)\n",
    "    return ' '.join([word for word in text.split() if word not in stopwords])"
   ]
  },
  {
   "cell_type": "code",
   "execution_count": 7,
   "id": "282d8410-044b-4cd5-b605-376fa9c9d0d4",
   "metadata": {},
   "outputs": [],
   "source": [
    "# Apply cleaning\n",
    "df['cleaned_text'] = df['text'].apply(clean_text)"
   ]
  },
  {
   "cell_type": "code",
   "execution_count": 8,
   "id": "a9bc05a1-8eff-4385-9d00-1c36041157a8",
   "metadata": {},
   "outputs": [],
   "source": [
    "# Bag of Words\n",
    "bow_vectorizer = CountVectorizer()\n",
    "bow_matrix = bow_vectorizer.fit_transform(df['cleaned_text'])\n",
    "bow_df = pd.DataFrame(bow_matrix.toarray(), columns=bow_vectorizer.get_feature_names_out())"
   ]
  },
  {
   "cell_type": "code",
   "execution_count": 9,
   "id": "2e689b0b-1394-441b-ab1e-fe04e30d16ee",
   "metadata": {},
   "outputs": [],
   "source": [
    "# TF-IDF\n",
    "tfidf_vectorizer = TfidfVectorizer()\n",
    "tfidf_matrix = tfidf_vectorizer.fit_transform(df['cleaned_text'])\n",
    "tfidf_df = pd.DataFrame(tfidf_matrix.toarray(), columns=tfidf_vectorizer.get_feature_names_out())"
   ]
  },
  {
   "cell_type": "code",
   "execution_count": 14,
   "id": "7b117093-209b-40b1-a530-071113163693",
   "metadata": {},
   "outputs": [
    {
     "name": "stdout",
     "output_type": "stream",
     "text": [
      "Cleaned Text:\n",
      "                                text              cleaned_text\n",
      "0                         I love NLP                  love nlp\n",
      "1                         NLP is fun                   nlp fun\n",
      "2           Machine learning is cool     machine learning cool\n",
      "3               I enjoy learning NLP        enjoy learning nlp\n",
      "4  Fun with machine learning and NLP  fun machine learning nlp \n",
      "\n",
      "Bag of Words Representation:\n",
      "   cool  enjoy  fun  learning  love  machine  nlp\n",
      "0     0      0    0         0     1        0    1\n",
      "1     0      0    1         0     0        0    1\n",
      "2     1      0    0         1     0        1    0\n",
      "3     0      1    0         1     0        0    1\n",
      "4     0      0    1         1     0        1    1 \n",
      "\n",
      "TF-IDF Representation:\n",
      "       cool     enjoy       fun  learning      love   machine       nlp\n",
      "0  0.000000  0.000000  0.000000  0.000000  0.871247  0.000000  0.490845\n",
      "1  0.000000  0.000000  0.819887  0.000000  0.000000  0.000000  0.572526\n",
      "2  0.690159  0.000000  0.000000  0.462208  0.000000  0.556816  0.000000\n",
      "3  0.000000  0.752515  0.000000  0.503968  0.000000  0.000000  0.423954\n",
      "4  0.000000  0.000000  0.561066  0.465735  0.000000  0.561066  0.391791\n"
     ]
    }
   ],
   "source": [
    "print(\"Cleaned Text:\")\n",
    "print(df[['text', 'cleaned_text']], \"\\n\")\n",
    "\n",
    "print(\"Bag of Words Representation:\")\n",
    "print(bow_df, \"\\n\")\n",
    "\n",
    "print(\"TF-IDF Representation:\")\n",
    "print(tfidf_df)"
   ]
  },
  {
   "cell_type": "code",
   "execution_count": null,
   "id": "9a3da816-9f97-40a0-a2b5-f3ffb7f5ef67",
   "metadata": {},
   "outputs": [],
   "source": []
  }
 ],
 "metadata": {
  "kernelspec": {
   "display_name": "Python 3 (ipykernel)",
   "language": "python",
   "name": "python3"
  },
  "language_info": {
   "codemirror_mode": {
    "name": "ipython",
    "version": 3
   },
   "file_extension": ".py",
   "mimetype": "text/x-python",
   "name": "python",
   "nbconvert_exporter": "python",
   "pygments_lexer": "ipython3",
   "version": "3.12.7"
  }
 },
 "nbformat": 4,
 "nbformat_minor": 5
}
